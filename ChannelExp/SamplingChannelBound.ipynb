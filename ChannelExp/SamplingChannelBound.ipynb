{
 "cells": [
  {
   "cell_type": "code",
   "execution_count": 1,
   "metadata": {},
   "outputs": [
    {
     "name": "stderr",
     "output_type": "stream",
     "text": [
      "d:\\Anaconda\\envs\\pq\\lib\\site-packages\\openfermion\\hamiltonians\\hartree_fock.py:11: DeprecationWarning: Please use `OptimizeResult` from the `scipy.optimize` namespace, the `scipy.optimize.optimize` namespace is deprecated.\n",
      "  from scipy.optimize.optimize import OptimizeResult\n",
      "d:\\Anaconda\\envs\\pq\\lib\\site-packages\\paddle\\tensor\\creation.py:125: DeprecationWarning: `np.object` is a deprecated alias for the builtin `object`. To silence this warning, use `object` by itself. Doing this will not modify any behavior and is safe. \n",
      "Deprecated in NumPy 1.20; for more details and guidance: https://numpy.org/devdocs/release/1.20.0-notes.html#deprecations\n",
      "  if data.dtype == np.object:\n",
      "d:\\Anaconda\\envs\\pq\\lib\\site-packages\\paddle\\tensor\\creation.py:125: DeprecationWarning: `np.object` is a deprecated alias for the builtin `object`. To silence this warning, use `object` by itself. Doing this will not modify any behavior and is safe. \n",
      "Deprecated in NumPy 1.20; for more details and guidance: https://numpy.org/devdocs/release/1.20.0-notes.html#deprecations\n",
      "  if data.dtype == np.object:\n"
     ]
    }
   ],
   "source": [
    "import os\n",
    "os.environ[\"PROTOCOL_BUFFERS_PYTHON_IMPLEMENTATION\"]=\"python\"\n",
    "import numpy as np\n",
    "import matlab\n",
    "import matlab.engine\n",
    "import paddle\n",
    "import paddle_quantum\n",
    "from paddle_quantum.ansatz import Circuit\n",
    "from paddle_quantum.state import State\n",
    "from paddle_quantum.qinfo import partial_trace, random_channel\n",
    "from scipy import optimize\n",
    "from typing import List\n",
    "\n",
    "paddle_quantum.set_backend('density_matrix')\n",
    "paddle_quantum.set_dtype('complex128')\n"
   ]
  },
  {
   "cell_type": "code",
   "execution_count": 2,
   "metadata": {},
   "outputs": [],
   "source": [
    "NUM_QUBIT = 2\n",
    "NUM_LAYER = 10\n",
    "SEED = np.random.randint(0, 1000000)"
   ]
  },
  {
   "cell_type": "code",
   "execution_count": 3,
   "metadata": {},
   "outputs": [],
   "source": [
    "eng = matlab.engine.start_matlab()\n",
    "\n",
    "def __count_params(total_dim) -> int:\n",
    "    r\"\"\"Count the number of parameters of the model\n",
    "    \"\"\"\n",
    "    num_param = total_dim\n",
    "    for i in range(1, total_dim):\n",
    "        for _ in range(i - 1):\n",
    "            num_param += 2\n",
    "    return num_param\n",
    "\n",
    "\n",
    "def init_param() -> paddle.Tensor:\n",
    "    r\"\"\"Initialize the parameters of the model\n",
    "    \"\"\"\n",
    "    return paddle.uniform([NUM_LAYER, NUM_QUBIT, 1], dtype='float64', min=0, max=2 * np.pi, seed=SEED) # random initial theta for ry/u3\n",
    "\n",
    "\n",
    "# circuit for calculating upper bound\n",
    "def QNN(num_qubit, num_layer, theta):\n",
    "    cir = Circuit(num_qubit)\n",
    "    theta = paddle.reshape(paddle.to_tensor(theta), [num_layer, num_qubit, 1])\n",
    "    # append ry/u3 gates\n",
    "    for repeat in range(num_layer):\n",
    "        for i in range(num_qubit):\n",
    "            cir.ry(qubits_idx=i, param=theta[repeat][i][0])\n",
    "        for j in range(num_qubit - 1):\n",
    "            cir.cnot([j, j + 1])\n",
    "        cir.cnot([num_qubit-1, 0])\n",
    "    return cir\n",
    "\n",
    "\n",
    "def record_best(cur_theta, optimizer):\n",
    "    cur_cost = compute_loss(cur_theta, optimizer.num_layer)\n",
    "    if  cur_cost < optimizer.min_cost:\n",
    "        optimizer.min_cost = cur_cost\n",
    "        optimizer.min_theta = cur_theta\n",
    "        print(optimizer.min_cost)\n",
    "    return cur_cost\n",
    "    \n",
    "\n",
    "# compute loss function via SDP\n",
    "def compute_loss(theta, depth, r_channel, qubit_B):\n",
    "    cir = QNN(NUM_QUBIT, depth, theta)\n",
    "    cir.choi_channel(r_channel, qubits_idx=qubit_B) # 2-qubit\n",
    "    state = cir()\n",
    "    \n",
    "    # use MATLAB to compute loss of the extension state\n",
    "    qbound = eng.Q_bound_1ext(matlab.double(state.numpy().tolist(), is_complex=True))\n",
    "    GLOBALVAL.append(qbound)\n",
    "    GLOBALSTATE.append(state.numpy())\n",
    "    return qbound\n",
    "\n",
    "\n",
    "# mixed unitary channel\n",
    "def rand_mixed_unitary(p: List[float]):\n",
    "    JU = eng.RandMixedU(matlab.double(p, is_complex=False))\n",
    "    return np.array(JU)\n",
    "\n",
    "# amplitude damping channel\n",
    "def ad_depo_qubit(pA: float, pD: float):\n",
    "    JU = eng.AD_Depo_qubit(matlab.double(pA, is_complex=False),\n",
    "                           matlab.double(pD, is_complex=False))\n",
    "    return np.array(JU)\n",
    "\n",
    "# random pauli channel\n",
    "def rand_pauli_channel(p: List[float]):\n",
    "    JPa = eng.PauliChan(matlab.double(p, is_complex=False))\n",
    "    return np.array(JPa)\n"
   ]
  },
  {
   "cell_type": "markdown",
   "metadata": {},
   "source": [
    "## Random channel bound sampling"
   ]
  },
  {
   "cell_type": "code",
   "execution_count": 4,
   "metadata": {},
   "outputs": [],
   "source": [
    "from paddle_quantum.state import bell_state"
   ]
  },
  {
   "cell_type": "code",
   "execution_count": 34,
   "metadata": {},
   "outputs": [
    {
     "name": "stderr",
     "output_type": "stream",
     "text": [
      "d:\\Anaconda\\envs\\pq\\lib\\site-packages\\paddle\\fluid\\framework.py:1104: DeprecationWarning: `np.bool` is a deprecated alias for the builtin `bool`. To silence this warning, use `bool` by itself. Doing this will not modify any behavior and is safe. If you specifically wanted the numpy scalar type, use `np.bool_` here.\n",
      "Deprecated in NumPy 1.20; for more details and guidance: https://numpy.org/devdocs/release/1.20.0-notes.html#deprecations\n",
      "  elif dtype == np.bool:\n"
     ]
    }
   ],
   "source": [
    "SAMP = 10\n",
    "pA_list = np.arange(0.0, 0.8, 0.01)\n",
    "BOUNDRECORD = []\n",
    "learning_rate = 0.07\n",
    "iterations = 1\n",
    "bell = bell_state(2)"
   ]
  },
  {
   "cell_type": "markdown",
   "metadata": {},
   "source": [
    "## AD channel"
   ]
  },
  {
   "cell_type": "code",
   "execution_count": null,
   "metadata": {},
   "outputs": [],
   "source": [
    "SEED = np.random.randint(0, 1000000)\n",
    "init_theta = paddle.uniform([NUM_LAYER, NUM_QUBIT, 1], dtype='float64', min=0, max=2 * np.pi, seed=SEED) # random initial theta for ry/u3\n",
    "for pA in pA_list:\n",
    "    GLOBALVAL = []\n",
    "    GLOBALSTATE = []\n",
    "    r_channel = paddle.to_tensor(ad_depo_qubit(1-pA, 0.0))\n",
    "    bellbound = eng.Q_bound_1ext(matlab.double((r_channel).tolist(), is_complex=True))\n",
    "    LRb = eng.LRbound(matlab.double((r_channel).tolist(), is_complex=True))\n",
    "    BOUNDRECORD.append([-2*np.log2(min([0])), -2*np.log2(bellbound), LRb])\n",
    "    np.save(f'bound_record_1102_AD_{SEED}.npy', BOUNDRECORD)"
   ]
  },
  {
   "cell_type": "code",
   "execution_count": 33,
   "metadata": {},
   "outputs": [],
   "source": [
    "import scipy\n",
    "\n",
    "scipy.io.savemat('pA_AD_Q.mat', {'data': pA_list})\n",
    "scipy.io.savemat('data_AD_Q.mat', {'data': data})"
   ]
  },
  {
   "cell_type": "markdown",
   "metadata": {},
   "source": [
    "## Random Channel sampling"
   ]
  },
  {
   "cell_type": "code",
   "execution_count": 6,
   "metadata": {},
   "outputs": [
    {
     "name": "stderr",
     "output_type": "stream",
     "text": [
      "C:\\Users\\johni\\AppData\\Local\\Temp\\ipykernel_3596\\3669841296.py:9: DeprecationWarning: Use of `minimize` with `x0.ndim != 1` is deprecated. Currently, singleton dimensions will be removed from `x0`, but an error will be raised in SciPy 1.11.0.\n",
      "  opt_res = optimize.minimize(compute_loss, init_theta, args=(NUM_LAYER, (2**2 + 0j)*r_channel, [2,3]), method='Powell', options={'maxiter': iterations})\n"
     ]
    },
    {
     "name": "stdout",
     "output_type": "stream",
     "text": [
      "Sample:  0\n"
     ]
    }
   ],
   "source": [
    "SEED = np.random.randint(0, 1000000)\n",
    "init_theta = paddle.uniform([NUM_LAYER, NUM_QUBIT, 1], dtype='float64', min=0, max=2 * np.pi, seed=73) # random initial theta for ry/u3\n",
    "for _ in range(SAMP):\n",
    "    GLOBALVAL = []\n",
    "    GLOBALSTATE = []\n",
    "    # r_channel = random_channel(1, target='Choi')*(1/2 + 0j)\n",
    "    r_channel = paddle.to_tensor(rand_mixed_unitary([0.4, 0.4, 0.1, 0.1])) * (1/(2**2) + 0j)\n",
    "    \n",
    "    init_theta = init_param()\n",
    "    opt_res = optimize.minimize(compute_loss, init_theta, args=(NUM_LAYER, (2**2 + 0j)*r_channel, [2,3]), method='Powell', options={'maxiter': iterations})\n",
    "    bellbound = eng.Q_bound_1ext(matlab.double((r_channel).tolist(), is_complex=True))\n",
    "    LRb = eng.LRbound(matlab.double((r_channel).tolist(), is_complex=True))\n",
    "    BOUNDRECORD.append([-2*np.log2(min(GLOBALVAL)), -2*np.log2(bellbound), LRb])\n",
    "    np.save(f'bound_record_1102_{SEED}.npy', BOUNDRECORD)\n",
    "    if _ % 10 == 0:\n",
    "        print('Sample: ', _)\n"
   ]
  }
 ],
 "metadata": {
  "kernelspec": {
   "display_name": "pq",
   "language": "python",
   "name": "python3"
  },
  "language_info": {
   "codemirror_mode": {
    "name": "ipython",
    "version": 3
   },
   "file_extension": ".py",
   "mimetype": "text/x-python",
   "name": "python",
   "nbconvert_exporter": "python",
   "pygments_lexer": "ipython3",
   "version": "3.8.16"
  },
  "orig_nbformat": 4
 },
 "nbformat": 4,
 "nbformat_minor": 2
}
